{
 "cells": [
  {
   "cell_type": "markdown",
   "id": "86fbbf8e-8724-4f43-9c3a-6aeca1005939",
   "metadata": {},
   "source": [
    "## Conduct an empirical analysis of your algorithm by running several experiments as follows:\n",
    "1. For each value n ∈ {10, 100, 1000, 10,000, 100,000, 500,000, 1,000,000}\n",
    "    \n",
    "    1. Generate 5 sets of n points (x,y) in the plane. You may use either provided point generator: the 2-D Gaussian (Normal) distribution or the uniform distribution. For every point, x and y are real numbers (doubles). You may use the provided project scaffold code to assist you.\n",
    "    2. For each point set:\n",
    "        1. find the convex hull \n",
    "        2. record the elapsed time\n",
    "    3. For each size n, compute the mean time t required.\n",
    "2. Plot n (independent variable) versus t (dependent variable). Note that if you use a logarithmic graph to fit the data (preferable) then that may change the expected shape of your distribution. Make sure you explain that.\n"
   ]
  },
  {
   "cell_type": "code",
   "execution_count": 8,
   "id": "59830a28-6305-4a95-9340-98e2e39c9f09",
   "metadata": {},
   "outputs": [],
   "source": [
    "n_t = {\n",
    "     10: 0.001, \n",
    "     100: 0.003, \n",
    "     1000: 0.016, \n",
    "     10000: 0.089, \n",
    "     100000: 0.950, \n",
    "     500000: 4.564, \n",
    "     1000000: 9.019}\n",
    "n = list(n_t.keys())\n",
    "time = list(n_t.values())"
   ]
  },
  {
   "cell_type": "code",
   "execution_count": 77,
   "id": "986f691a-45c7-4904-8d6a-f346f2ecbe22",
   "metadata": {},
   "outputs": [],
   "source": [
    "import matplotlib.pyplot as plt\n",
    "import pandas as pd\n",
    "import numpy as np"
   ]
  },
  {
   "cell_type": "code",
   "execution_count": 43,
   "id": "412c7696-91ce-45df-b81d-a7a10772c54a",
   "metadata": {},
   "outputs": [
    {
     "data": {
      "text/html": [
       "<div>\n",
       "<style scoped>\n",
       "    .dataframe tbody tr th:only-of-type {\n",
       "        vertical-align: middle;\n",
       "    }\n",
       "\n",
       "    .dataframe tbody tr th {\n",
       "        vertical-align: top;\n",
       "    }\n",
       "\n",
       "    .dataframe thead th {\n",
       "        text-align: right;\n",
       "    }\n",
       "</style>\n",
       "<table border=\"1\" class=\"dataframe\">\n",
       "  <thead>\n",
       "    <tr style=\"text-align: right;\">\n",
       "      <th></th>\n",
       "      <th>n</th>\n",
       "      <th>time</th>\n",
       "    </tr>\n",
       "  </thead>\n",
       "  <tbody>\n",
       "    <tr>\n",
       "      <th>0</th>\n",
       "      <td>10</td>\n",
       "      <td>0.001</td>\n",
       "    </tr>\n",
       "    <tr>\n",
       "      <th>1</th>\n",
       "      <td>100</td>\n",
       "      <td>0.003</td>\n",
       "    </tr>\n",
       "    <tr>\n",
       "      <th>2</th>\n",
       "      <td>1000</td>\n",
       "      <td>0.016</td>\n",
       "    </tr>\n",
       "    <tr>\n",
       "      <th>3</th>\n",
       "      <td>10000</td>\n",
       "      <td>0.089</td>\n",
       "    </tr>\n",
       "    <tr>\n",
       "      <th>4</th>\n",
       "      <td>100000</td>\n",
       "      <td>0.950</td>\n",
       "    </tr>\n",
       "    <tr>\n",
       "      <th>5</th>\n",
       "      <td>500000</td>\n",
       "      <td>4.564</td>\n",
       "    </tr>\n",
       "    <tr>\n",
       "      <th>6</th>\n",
       "      <td>1000000</td>\n",
       "      <td>9.019</td>\n",
       "    </tr>\n",
       "  </tbody>\n",
       "</table>\n",
       "</div>"
      ],
      "text/plain": [
       "         n   time\n",
       "0       10  0.001\n",
       "1      100  0.003\n",
       "2     1000  0.016\n",
       "3    10000  0.089\n",
       "4   100000  0.950\n",
       "5   500000  4.564\n",
       "6  1000000  9.019"
      ]
     },
     "execution_count": 43,
     "metadata": {},
     "output_type": "execute_result"
    }
   ],
   "source": [
    "df=pd.DataFrame(n)\n",
    "df.columns=['n']\n",
    "df['time'] = time\n",
    "df"
   ]
  },
  {
   "cell_type": "code",
   "execution_count": 119,
   "id": "74f76fe5-d59a-462b-84ba-679369947281",
   "metadata": {},
   "outputs": [
    {
     "data": {
      "text/plain": [
       "array([2.30258509e+01, 4.60517019e+02, 6.90775528e+03, 9.21034037e+04,\n",
       "       1.15129255e+06, 6.56118169e+06, 1.38155106e+07])"
      ]
     },
     "execution_count": 119,
     "metadata": {},
     "output_type": "execute_result"
    },
    {
     "data": {
      "image/png": "[encoded data removed]",
      "text/plain": [
       "<Figure size 432x288 with 1 Axes>"
      ]
     },
     "metadata": {
      "needs_background": "light"
     },
     "output_type": "display_data"
    }
   ],
   "source": [
    "fig, ax1 = plt.subplots()\n",
    "\n",
    "plt.plot(n, time, label = \"Empirical\")\n",
    "ax1.scatter(n, time)\n",
    "logfunc = np.log(df[\"n\"].to_numpy())*df[\"n\"].to_numpy()\n",
    "plt.plot(logfunc, time, label = \"Theoretical\")\n",
    "plt.legend()\n",
    "ax1.set_xscale('log')\n",
    "ax1.grid()\n",
    "ax1.set_yscale('log')\n",
    "ax1.set_title('Convex Hull Time Complexity')\n",
    "ax1.set_ylabel('Time (s)')\n",
    "ax1.set_xlabel('Number of points (n)')\n",
    "logfunc"
   ]
  },
  {
   "cell_type": "code",
   "execution_count": 120,
   "id": "345dff23-2917-48a5-a34c-ae5ad7bb298e",
   "metadata": {},
   "outputs": [
    {
     "data": {
      "text/plain": [
       "7.91428439802643e-06"
      ]
     },
     "execution_count": 120,
     "metadata": {},
     "output_type": "execute_result"
    }
   ],
   "source": [
    "sum = 0\n",
    "for i in range(len(time)):\n",
    "    sum += (time[i]/logfunc[i])\n",
    "k = sum/len(time)\n",
    "k\n"
   ]
  },
  {
   "cell_type": "code",
   "execution_count": null,
   "id": "310722bb-d261-40eb-9009-9fef2894d5e1",
   "metadata": {},
   "outputs": [],
   "source": []
  }
 ],
 "metadata": {
  "kernelspec": {
   "display_name": "Python 3 (ipykernel)",
   "language": "python",
   "name": "python3"
  },
  "language_info": {
   "codemirror_mode": {
    "name": "ipython",
    "version": 3
   },
   "file_extension": ".py",
   "mimetype": "text/x-python",
   "name": "python",
   "nbconvert_exporter": "python",
   "pygments_lexer": "ipython3",
   "version": "3.8.12"
  }
 },
 "nbformat": 4,
 "nbformat_minor": 5
}
